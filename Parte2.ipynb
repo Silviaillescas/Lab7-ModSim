{
 "cells": [
  {
   "cell_type": "markdown",
   "id": "6a14c3a5",
   "metadata": {},
   "source": [
    "# Teoría"
   ]
  },
  {
   "cell_type": "markdown",
   "id": "9152ba4f",
   "metadata": {},
   "source": [
    "1) Imagine que usted ha sido contratado para modelar el sistema de tráfico de una gran ciudad con el fin de\n",
    "evaluar el impacto de un nuevo sistema de metro. ¿Por qué un modelo puramente MBA, DES o DS sería, por\n",
    "sí solo, insuficiente para esta tarea? Describa cómo diseñaría usted un modelo híbrido para este problema,\n",
    "identificando qué componente del sistema sería modelado con cada paradigma y4 cómo interactuarían entre\n",
    "sí.\n",
    "\n",
    "- Un solo paradigma no es suficiente para modelar el impacto de un nuevo metro en una gran ciudad porque el MBA solo describe las decisiones individuales de los viajeros, el DES se enfoca en colas y capacidad de los trenes, y el DS solo ve tendencias generales del tráfico. Por eso, diseñaría un modelo híbrido donde el MBA represente a los usuarios que eligen su modo y hora de viaje, el DES modele la operación del metro con sus recursos limitados y tiempos de espera, y el DS controle la demanda agregada y la frecuencia de los trenes. Estos componentes interactuarían entre sí, ya que las decisiones de los agentes afectan las colas y los tiempos reales, y esa información se usa para ajustar las políticas del sistema en el nivel macro.\n",
    "\n",
    "\n",
    "2) En el \"Patrón 1: MBA → DES\", la transición de un agente a una entidad debe ser fluida. Describa a nivel\n",
    "conceptual y técnico (¿qué información específica se debe transferir?) cómo se realizaría esta transición en\n",
    "una herramienta como AnyLogic, o de forma más abstracta, en un marco de trabajo en Python que\n",
    "combinara las bibliotecas Mesa (para MBA) y SimPy (para DES)\n",
    "\n",
    "- En el patrón MBA → DES, cuando un viajero entra a la estación deja de comportarse como “agente que decide y camina” y pasa a ser una “entidad” que fluye por colas y recursos; para eso se transfiere su ID, hora de llegada, origen-destino restante, atributos de servicio (tipo de boleto, andén), tolerancia a espera/hacinamiento y acumuladores de tiempo/costo para medir desempeño. En AnyLogic, el agente ingresa a un diagrama de flujo (Enter→Queue→Seize→Delay→Release→Exit) pasando esos datos como parámetros/atributos del flowchart y, al salir, se actualiza el agente con los tiempos reales y su nueva posición; en Mesa+SimPy, el agente de Mesa llama un proceso de SimPy (con recursos como torniquetes/andenes/trenes) y “cede” control, mientras SimPy maneja la cola y registra tiempos, luego el proceso devuelve al objeto del agente los resultados (espera, embarque, tren usado) para que continúe su decisión fuera de la estación.\n",
    "\n",
    "\n",
    "3) El \"Patrón 3: DS dentro de un Agente\" es un claro ejemplo de modelado multi-escala. Proponga usted otro\n",
    "escenario (fuera del ámbito biológico), por ejemplo, en economía o sociología, donde este patrón sería de\n",
    "gran utilidad. ¿Qué representaría el agente (MBA) y qué dinámica capturaría su modelo de Dinámica de\n",
    "Sistemas (DS) interno?\n",
    "\n",
    "- Un buen ejemplo sería modelar a vendedores ambulantes en una ciudad: cada vendedor se representa como un agente que decide dónde colocarse, qué precios manejar y en qué horarios trabajar según la competencia y el flujo de personas; dentro de cada agente habría un pequeño modelo de dinámica de sistemas que controla su capital de trabajo y su inventario como “stocks” que aumentan con ventas y disminuyen por costos o multas, y estas variaciones internas afectan sus decisiones futuras en el MBA (por ejemplo, si le va mal, reduce horario o cambia de ubicación; si le va bien, invierte más y atrae a más clientes).\n",
    "\n",
    "\n",
    "4) La combinación de paradigmas de modelado presenta desafíos significativos. Desde su perspectiva, ¿cuáles\n",
    "cree usted que son los dos mayores desafíos al construir y validar un modelo híbrido? Considere aspectos\n",
    "como la calibración de parámetros entre los diferentes componentes, la complejidad del software y la\n",
    "validación de los resultados emergentes.\n",
    "\n",
    "- Desde mi perspectiva, dos de los mayores desafíos al construir y validar un modelo híbrido son, primero, lograr que los parámetros y escalas de tiempo de cada paradigma estén bien coordinados, porque ajustar uno puede descalibrar el comportamiento de los demás; y segundo, comprobar que el modelo completo produzca resultados emergentes realistas, lo cual es difícil porque se deben validar tanto los módulos por separado como el comportamiento conjunto del sistema, además de manejar una mayor complejidad de software al integrar diferentes métodos de simulación.\n",
    "\n"
   ]
  },
  {
   "cell_type": "markdown",
   "id": "8e3e7cc7",
   "metadata": {},
   "source": [
    "# Práctica"
   ]
  }
 ],
 "metadata": {
  "language_info": {
   "name": "python"
  }
 },
 "nbformat": 4,
 "nbformat_minor": 5
}
