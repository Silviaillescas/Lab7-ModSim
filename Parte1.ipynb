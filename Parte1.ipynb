{
 "cells": [
  {
   "cell_type": "markdown",
   "id": "fd908f19",
   "metadata": {},
   "source": [
    "## Teoría"
   ]
  },
  {
   "cell_type": "markdown",
   "id": "c6427744",
   "metadata": {},
   "source": [
    "1. Describa con sus propias palabras la diferencia fundamental entre una Entidad de DES y un Agente de MBA. ¿Por qué esta diferencia hace que cada paradigma sea adecuado para tipos de problemas distintos? Proporcione un ejemplo de un problema de modelado para cada uno.\n",
    "\n",
    "    La diferencia clave entre una Entidad de DES y un Agente de MBA radica en cómo se representan y comportan los elementos del sistema. En DES, las entidades siguen una secuencia de eventos discretos y no tienen comportamiento autónomo, simplemente cambian su estado en momentos específicos. Por otro lado, en MBA, los agentes son autónomos y tienen capacidad de tomar decisiones basadas en reglas o interacciones con su entorno. Esto hace que DES sea adecuado para sistemas donde las interacciones son simples y basadas en eventos, mientras que MBA es mejor para sistemas donde las entidades tienen comportamientos dinámicos e interacciones complejas.\n",
    "\n",
    "2. Explique por qué las colas son una consecuencia inevitable en la mayoría de los sistemas modelados con DES. ¿Qué tipo de información valiosa podemos extraer al analizar la longitud de una cola y el tiempo de espera en ella a lo largo de una simulación?\n",
    "\n",
    "    Las colas son inevitables en los sistemas modelados con DES debido a la demanda de recursos limitados. Cuando varias entidades requieren un recurso que está ocupado, deben esperar en una cola hasta que el recurso esté disponible. Al analizar la longitud de la cola y el tiempo de espera, obtenemos información sobre la eficiencia del sistema. Si la cola es larga o el tiempo de espera es elevado, puede ser una señal de que el sistema está sobrecargado, lo que indica la necesidad de optimizar recursos o mejorar el flujo de trabajo para reducir las esperas y mejorar el rendimiento del sistema.\n",
    "\n",
    "3. En clase se mencionaron los recursos móviles, estáticos y portátiles. Describa un escenario (diferente al hospital) que involucre los tres tipos de recursos. Identifique qué elementos serían cada tipo de recurso y cómo interactuarían.\n",
    "\n",
    "    Un ejemplo de escenario con los tres tipos de recursos sería un sistema de entrega de paquetes en una ciudad. Los recursos estáticos serían los almacenes de distribución donde se almacenan los paquetes. Los recursos móviles serían los vehículos de reparto que transportan los paquetes desde el almacén hasta los clientes. Los recursos portátiles serían los dispositivos móviles que los repartidores usan para gestionar las entregas y confirmar la recepción de los paquetes. Estos tres recursos interactúan al coordinar el transporte de los paquetes y la gestión de las entregas, optimizando el proceso y asegurando que los paquetes lleguen a su destino.\n",
    "\n",
    "4. Imagine que está modelando la propagación de una enfermedad en una ciudad (un problema clásico de MBA). Ahora, quieres añadir el proceso de vacunación en centros de salud. ¿Cómo podría combinar MBA y DES? ¿Qué parte del modelo sería MBA y cuál DES? ¿Qué información pasaría de un modelo a otro?\n",
    "\n",
    "    En este caso, se puede usar MBA para modelar la propagación de la enfermedad, donde cada individuo (agente) tiene comportamientos y decisiones autónomas, como si se infecta o se protege. Por otro lado, DES se usaría para modelar el proceso de vacunación, que involucra eventos discretos como la llegada de personas a los centros de salud, la disponibilidad de vacunas y el tiempo de espera. La información sobre el estado de salud de los individuos pasaría del modelo MBA al DES, para determinar quiénes son elegibles para la vacunación, y a su vez, el tiempo de espera y la disponibilidad de recursos en DES influirían en el comportamiento de los agentes en MBA."
   ]
  }
 ],
 "metadata": {
  "language_info": {
   "name": "python"
  }
 },
 "nbformat": 4,
 "nbformat_minor": 5
}
