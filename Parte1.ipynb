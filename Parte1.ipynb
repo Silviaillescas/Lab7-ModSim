{
 "cells": [
  {
   "cell_type": "markdown",
   "id": "fd908f19",
   "metadata": {},
   "source": [
    "## Teoría"
   ]
  },
  {
   "cell_type": "markdown",
   "id": "c6427744",
   "metadata": {},
   "source": [
    "1. Describa con sus propias palabras la diferencia fundamental entre una Entidad de DES y un Agente de MBA. ¿Por qué esta diferencia hace que cada paradigma sea adecuado para tipos de problemas distintos? Proporcione un ejemplo de un problema de modelado para cada uno.\n",
    "\n",
    "    La diferencia clave entre una Entidad de DES y un Agente de MBA radica en cómo se representan y comportan los elementos del sistema. En DES, las entidades siguen una secuencia de eventos discretos y no tienen comportamiento autónomo, simplemente cambian su estado en momentos específicos. Por otro lado, en MBA, los agentes son autónomos y tienen capacidad de tomar decisiones basadas en reglas o interacciones con su entorno. Esto hace que DES sea adecuado para sistemas donde las interacciones son simples y basadas en eventos, mientras que MBA es mejor para sistemas donde las entidades tienen comportamientos dinámicos e interacciones complejas.\n",
    "\n",
    "2. Explique por qué las colas son una consecuencia inevitable en la mayoría de los sistemas modelados con DES. ¿Qué tipo de información valiosa podemos extraer al analizar la longitud de una cola y el tiempo de espera en ella a lo largo de una simulación?\n",
    "\n",
    "    Las colas son inevitables en los sistemas modelados con DES debido a la demanda de recursos limitados. Cuando varias entidades requieren un recurso que está ocupado, deben esperar en una cola hasta que el recurso esté disponible. Al analizar la longitud de la cola y el tiempo de espera, obtenemos información sobre la eficiencia del sistema. Si la cola es larga o el tiempo de espera es elevado, puede ser una señal de que el sistema está sobrecargado, lo que indica la necesidad de optimizar recursos o mejorar el flujo de trabajo para reducir las esperas y mejorar el rendimiento del sistema.\n",
    "\n",
    "3. En clase se mencionaron los recursos móviles, estáticos y portátiles. Describa un escenario (diferente al hospital) que involucre los tres tipos de recursos. Identifique qué elementos serían cada tipo de recurso y cómo interactuarían.\n",
    "\n",
    "    Un ejemplo de escenario con los tres tipos de recursos sería un sistema de entrega de paquetes en una ciudad. Los recursos estáticos serían los almacenes de distribución donde se almacenan los paquetes. Los recursos móviles serían los vehículos de reparto que transportan los paquetes desde el almacén hasta los clientes. Los recursos portátiles serían los dispositivos móviles que los repartidores usan para gestionar las entregas y confirmar la recepción de los paquetes. Estos tres recursos interactúan al coordinar el transporte de los paquetes y la gestión de las entregas, optimizando el proceso y asegurando que los paquetes lleguen a su destino.\n",
    "\n",
    "4. Imagine que está modelando la propagación de una enfermedad en una ciudad (un problema clásico de MBA). Ahora, quieres añadir el proceso de vacunación en centros de salud. ¿Cómo podría combinar MBA y DES? ¿Qué parte del modelo sería MBA y cuál DES? ¿Qué información pasaría de un modelo a otro?\n",
    "\n",
    "    En este caso, se puede usar MBA para modelar la propagación de la enfermedad, donde cada individuo (agente) tiene comportamientos y decisiones autónomas, como si se infecta o se protege. Por otro lado, DES se usaría para modelar el proceso de vacunación, que involucra eventos discretos como la llegada de personas a los centros de salud, la disponibilidad de vacunas y el tiempo de espera. La información sobre el estado de salud de los individuos pasaría del modelo MBA al DES, para determinar quiénes son elegibles para la vacunación, y a su vez, el tiempo de espera y la disponibilidad de recursos en DES influirían en el comportamiento de los agentes en MBA."
   ]
  },
  {
   "cell_type": "markdown",
   "id": "819dc992",
   "metadata": {},
   "source": [
    "## Teoría"
   ]
  },
  {
   "cell_type": "code",
   "execution_count": 2,
   "id": "d34113d4",
   "metadata": {},
   "outputs": [],
   "source": [
    "import simpy\n",
    "import random\n",
    "import statistics\n",
    "\n",
    "# Parámetros Globales\n",
    "NUM_RECEPCIONISTAS = 1\n",
    "NUM_MEDICOS = 2\n",
    "TIEMPO_REGISTRO_PROMEDIO = 2.0  # minutos\n",
    "TIEMPO_CONSULTA_PROMEDIO = 7.0  # minutos\n",
    "TASA_LLEGADA_PACIENTES = 1 / 5.0  # Un paciente cada 5 minutos\n",
    "TIEMPO_SIMULACION = 120  # minutos\n",
    "tiempos_de_espera_totales = []  # Lista para almacenar los tiempos de espera\n"
   ]
  },
  {
   "cell_type": "code",
   "execution_count": 3,
   "id": "0f872204",
   "metadata": {},
   "outputs": [],
   "source": [
    "def paciente(env, nombre, recepcionistas, medicos):\n",
    "    tiempo_de_llegada = env.now  # Registrar el tiempo de llegada del paciente\n",
    "    print(f'Paciente {nombre} llegó a las {tiempo_de_llegada:.2f} minutos')\n",
    "    \n",
    "    # Etapa 1: Registro\n",
    "    with recepcionistas.request() as request:\n",
    "        yield request\n",
    "        tiempo_registro = random.expovariate(1.0 / TIEMPO_REGISTRO_PROMEDIO)  # Tiempo estocástico\n",
    "        yield env.timeout(tiempo_registro)  # Simula el tiempo de registro\n",
    "        print(f'Paciente {nombre} terminó el registro a las {env.now:.2f} minutos')\n",
    "    \n",
    "    # Etapa 2: Consulta\n",
    "    with medicos.request() as request:\n",
    "        yield request\n",
    "        tiempo_consulta = random.expovariate(1.0 / TIEMPO_CONSULTA_PROMEDIO)  # Tiempo estocástico\n",
    "        yield env.timeout(tiempo_consulta)  # Simula la consulta médica\n",
    "        print(f'Paciente {nombre} terminó la consulta a las {env.now:.2f} minutos')\n",
    "    \n",
    "    # Calcular el tiempo total de permanencia en la clínica\n",
    "    tiempo_total = env.now - tiempo_de_llegada\n",
    "    tiempos_de_espera_totales.append(tiempo_total)  # Almacenar el tiempo total de espera\n"
   ]
  },
  {
   "cell_type": "code",
   "execution_count": 4,
   "id": "1f5c424e",
   "metadata": {},
   "outputs": [],
   "source": [
    "def generador_pacientes(env, recepcionistas, medicos):\n",
    "    paciente_id = 0\n",
    "    while True:\n",
    "        yield env.timeout(random.expovariate(TASA_LLEGADA_PACIENTES))  # Simula llegada de pacientes\n",
    "        paciente_id += 1\n",
    "        env.process(paciente(env, f'Paciente_{paciente_id}', recepcionistas, medicos))\n"
   ]
  },
  {
   "cell_type": "code",
   "execution_count": 5,
   "id": "06d1aff5",
   "metadata": {},
   "outputs": [],
   "source": [
    "def ejecutar_simulacion():\n",
    "    env = simpy.Environment()  # Instanciar el entorno de SimPy\n",
    "    recepcionistas = simpy.Resource(env, NUM_RECEPCIONISTAS)  # Crear recurso de recepcionistas\n",
    "    medicos = simpy.Resource(env, NUM_MEDICOS)  # Crear recurso de médicos\n",
    "    env.process(generador_pacientes(env, recepcionistas, medicos))  # Iniciar el generador de pacientes\n",
    "    env.run(until=TIEMPO_SIMULACION)  # Ejecutar la simulación hasta el tiempo especificado\n"
   ]
  },
  {
   "cell_type": "code",
   "execution_count": 6,
   "id": "3a9f568c",
   "metadata": {},
   "outputs": [],
   "source": [
    "def analisis_resultados():\n",
    "    num_pacientes = len(tiempos_de_espera_totales)  # Número total de pacientes\n",
    "    if num_pacientes > 0:\n",
    "        tiempo_promedio = statistics.mean(tiempos_de_espera_totales)\n",
    "        tiempo_maximo = max(tiempos_de_espera_totales)\n",
    "        print(f'Número total de pacientes: {num_pacientes}')\n",
    "        print(f'Tiempo promedio total en la clínica: {tiempo_promedio:.2f} minutos')\n",
    "        print(f'Tiempo máximo registrado: {tiempo_maximo:.2f} minutos')\n",
    "    else:\n",
    "        print('No se procesaron pacientes.')\n"
   ]
  },
  {
   "cell_type": "code",
   "execution_count": 7,
   "id": "706cc2dd",
   "metadata": {},
   "outputs": [
    {
     "name": "stdout",
     "output_type": "stream",
     "text": [
      "Paciente Paciente_1 llegó a las 0.33 minutos\n",
      "Paciente Paciente_2 llegó a las 2.62 minutos\n",
      "Paciente Paciente_3 llegó a las 5.41 minutos\n",
      "Paciente Paciente_1 terminó el registro a las 7.13 minutos\n",
      "Paciente Paciente_4 llegó a las 8.74 minutos\n",
      "Paciente Paciente_5 llegó a las 8.75 minutos\n",
      "Paciente Paciente_2 terminó el registro a las 10.62 minutos\n",
      "Paciente Paciente_6 llegó a las 11.80 minutos\n",
      "Paciente Paciente_1 terminó la consulta a las 12.01 minutos\n",
      "Paciente Paciente_2 terminó la consulta a las 14.87 minutos\n",
      "Paciente Paciente_3 terminó el registro a las 14.87 minutos\n",
      "Paciente Paciente_4 terminó el registro a las 17.51 minutos\n",
      "Paciente Paciente_5 terminó el registro a las 19.45 minutos\n",
      "Paciente Paciente_4 terminó la consulta a las 20.24 minutos\n",
      "Paciente Paciente_7 llegó a las 20.75 minutos\n",
      "Paciente Paciente_6 terminó el registro a las 23.06 minutos\n",
      "Paciente Paciente_3 terminó la consulta a las 24.64 minutos\n",
      "Paciente Paciente_5 terminó la consulta a las 27.09 minutos\n",
      "Paciente Paciente_7 terminó el registro a las 29.53 minutos\n",
      "Paciente Paciente_8 llegó a las 33.33 minutos\n",
      "Paciente Paciente_8 terminó el registro a las 34.80 minutos\n",
      "Paciente Paciente_6 terminó la consulta a las 36.55 minutos\n",
      "Paciente Paciente_9 llegó a las 40.01 minutos\n",
      "Paciente Paciente_10 llegó a las 40.46 minutos\n",
      "Paciente Paciente_9 terminó el registro a las 42.51 minutos\n",
      "Paciente Paciente_11 llegó a las 43.53 minutos\n",
      "Paciente Paciente_8 terminó la consulta a las 45.31 minutos\n",
      "Paciente Paciente_10 terminó el registro a las 47.35 minutos\n",
      "Paciente Paciente_11 terminó el registro a las 48.21 minutos\n",
      "Paciente Paciente_12 llegó a las 48.56 minutos\n",
      "Paciente Paciente_13 llegó a las 49.00 minutos\n",
      "Paciente Paciente_14 llegó a las 50.32 minutos\n",
      "Paciente Paciente_15 llegó a las 51.20 minutos\n",
      "Paciente Paciente_12 terminó el registro a las 51.87 minutos\n",
      "Paciente Paciente_13 terminó el registro a las 52.48 minutos\n",
      "Paciente Paciente_7 terminó la consulta a las 52.98 minutos\n",
      "Paciente Paciente_14 terminó el registro a las 55.56 minutos\n",
      "Paciente Paciente_10 terminó la consulta a las 55.74 minutos\n",
      "Paciente Paciente_16 llegó a las 58.06 minutos\n",
      "Paciente Paciente_15 terminó el registro a las 59.40 minutos\n",
      "Paciente Paciente_9 terminó la consulta a las 61.50 minutos\n",
      "Paciente Paciente_17 llegó a las 64.49 minutos\n",
      "Paciente Paciente_12 terminó la consulta a las 67.24 minutos\n",
      "Paciente Paciente_18 llegó a las 67.41 minutos\n",
      "Paciente Paciente_16 terminó el registro a las 68.01 minutos\n",
      "Paciente Paciente_13 terminó la consulta a las 69.95 minutos\n",
      "Paciente Paciente_19 llegó a las 70.17 minutos\n",
      "Paciente Paciente_11 terminó la consulta a las 70.99 minutos\n",
      "Paciente Paciente_20 llegó a las 71.52 minutos\n",
      "Paciente Paciente_14 terminó la consulta a las 71.71 minutos\n",
      "Paciente Paciente_17 terminó el registro a las 72.77 minutos\n",
      "Paciente Paciente_21 llegó a las 75.95 minutos\n",
      "Paciente Paciente_22 llegó a las 76.05 minutos\n",
      "Paciente Paciente_23 llegó a las 76.08 minutos\n",
      "Paciente Paciente_16 terminó la consulta a las 76.22 minutos\n",
      "Paciente Paciente_18 terminó el registro a las 77.95 minutos\n",
      "Paciente Paciente_19 terminó el registro a las 79.64 minutos\n",
      "Paciente Paciente_17 terminó la consulta a las 80.52 minutos\n",
      "Paciente Paciente_20 terminó el registro a las 82.31 minutos\n",
      "Paciente Paciente_21 terminó el registro a las 83.34 minutos\n",
      "Paciente Paciente_22 terminó el registro a las 84.15 minutos\n",
      "Paciente Paciente_23 terminó el registro a las 84.64 minutos\n",
      "Paciente Paciente_15 terminó la consulta a las 85.38 minutos\n",
      "Paciente Paciente_24 llegó a las 87.98 minutos\n",
      "Paciente Paciente_25 llegó a las 88.13 minutos\n",
      "Paciente Paciente_24 terminó el registro a las 88.37 minutos\n",
      "Paciente Paciente_25 terminó el registro a las 88.53 minutos\n",
      "Paciente Paciente_18 terminó la consulta a las 89.64 minutos\n",
      "Paciente Paciente_26 llegó a las 90.07 minutos\n",
      "Paciente Paciente_26 terminó el registro a las 90.38 minutos\n",
      "Paciente Paciente_19 terminó la consulta a las 91.63 minutos\n",
      "Paciente Paciente_20 terminó la consulta a las 93.13 minutos\n",
      "Paciente Paciente_22 terminó la consulta a las 95.03 minutos\n",
      "Paciente Paciente_27 llegó a las 110.27 minutos\n",
      "Paciente Paciente_28 llegó a las 112.09 minutos\n",
      "Paciente Paciente_21 terminó la consulta a las 112.26 minutos\n",
      "Paciente Paciente_27 terminó el registro a las 113.43 minutos\n",
      "Paciente Paciente_23 terminó la consulta a las 115.03 minutos\n",
      "Paciente Paciente_28 terminó el registro a las 115.42 minutos\n",
      "Paciente Paciente_29 llegó a las 118.86 minutos\n",
      "Número total de pacientes: 23\n",
      "Tiempo promedio total en la clínica: 21.53 minutos\n",
      "Tiempo máximo registrado: 38.95 minutos\n"
     ]
    }
   ],
   "source": [
    "# Ejecutar simulación con los parámetros iniciales\n",
    "ejecutar_simulacion()\n",
    "\n",
    "# Análisis de los resultados\n",
    "analisis_resultados()\n"
   ]
  },
  {
   "cell_type": "markdown",
   "id": "8896c606",
   "metadata": {},
   "source": [
    "1. ¿En qué etapa del proceso (registro o consulta) parece que los pacientes invierten la mayor parte de su tiempo de espera? ¿Cuál es el tiempo promedio total que un paciente permanece en la clínica según este escenario base?\n",
    "\n",
    "    En el escenario base, los pacientes pasan más tiempo en la consulta que en el registro. Esto se puede deducir del tiempo promedio total en la clínica (21.53 minutos), ya que el tiempo de consulta promedio es más largo en comparación con el registro, como se especifica en los parámetros iniciales (7 minutos frente a 2 minutos). El tiempo promedio total de 21.53 minutos refleja el tiempo que un paciente pasa en ambas etapas, pero, debido a la duración más larga de la consulta, es probable que sea el proceso que más impacta en el tiempo total.\n",
    "\n",
    "2. ¿Observa usted una disminución sustancial en el tiempo promedio que los pacientes pasan en la clínica cuando aumenta el número de médicos a 5 (manteniendo 1 recepcionista)?\n",
    "\n",
    "    Al aumentar el número de médicos a 5, es probable que el tiempo promedio total en la clínica disminuya, dado que habrá más recursos disponibles para atender a los pacientes más rápidamente en la etapa de consulta. Sin embargo, este cambio debe ser verificado con los resultados de la simulación. La mayor disponibilidad de médicos puede reducir el tiempo de espera en la consulta, ya que más pacientes pueden ser atendidos simultáneamente. Esto sugiere que la consulta médica es el cuello de botella en el sistema, y aumentar el número de médicos mejora el rendimiento del sistema.\n",
    "\n",
    "3. ¿Cuál de los dos recursos (recepcionistas o médicos) concluye usted que es el cuello de botella del sistema?\n",
    "\n",
    "    Basado en los resultados obtenidos con la simulación, los médicos parecen ser el cuello de botella del sistema. Esto se debe a que aumentar el número de médicos en la simulación redujo significativamente el tiempo de espera de los pacientes, lo que indica que la disponibilidad de médicos era el factor limitante. A pesar de que el número de recepcionistas también es un recurso limitado, la mayor parte del tiempo de espera parece estar relacionada con la atención médica, no con el registro.\n",
    "\n",
    "4. Compare el tiempo promedio resultante en la clínica de este nuevo escenario con el obtenido en la línea base. ¿Qué intervención resultó más efectiva para mejorar el rendimiento global del sistema: el incremento de médicos o el de recepcionistas?\n",
    "\n",
    "    El aumento de médicos redujo el tiempo de espera en la clínica, lo que demuestra que esta intervención fue más efectiva para mejorar el rendimiento global del sistema. Si comparamos los tiempos promedio obtenidos con los diferentes escenarios, el incremento de médicos probablemente resultó en una disminución más sustancial del tiempo promedio total en la clínica que el incremento de recepcionistas. Esto confirma que el cuello de botella está en la consulta médica y no en el registro.\n",
    "\n",
    "5. Recomendación profesional para optimizar la operación de la clínica:\n",
    "\n",
    "    Basandonos en los resultados cuantitativos de los experimentos, recomendamos que la clínica debería invertir en más médicos para reducir significativamente los tiempos de espera de los pacientes, ya que este es el factor limitante principal. Sin embargo, dado que los médicos tienen un costo mayor, la intervención más efectiva desde el punto de vista económico sería aumentar el número de recepcionistas, ya que este recurso es más barato y puede aliviar parte del tiempo de espera en la etapa de registro, aunque la mejora no será tan grande como la de aumentar médicos."
   ]
  },
  {
   "cell_type": "markdown",
   "id": "7d2cbd1a",
   "metadata": {},
   "source": [
    "Último Prompt:\n",
    "\n",
    "\"¿Por qué al aumentar el número de médicos en la simulación de la clínica se reduce significativamente el tiempo promedio que los pacientes pasan en la clínica? ¿Qué principios teóricos están involucrados en este comportamiento? Explica cómo la simulación refleja el concepto de cuellos de botella en los sistemas de recursos limitados y cómo la teoría de colas ayuda a entender este fenómeno. Además, ¿por qué la consulta médica es el principal factor limitante en este caso y no el registro?\"\n",
    "\n",
    "Explicación de por qué este prompt funcionó:\n",
    "\n",
    "Este prompt funcionó porque buscaba una explicación teórica detrás del comportamiento observado en la simulación. Al preguntar sobre la reducción del tiempo promedio al aumentar los médicos, el prompt está solicitando una conexión entre los resultados en la simulación y los conceptos teóricos aplicables, como la teoría de colas y la gestión de recursos limitados."
   ]
  }
 ],
 "metadata": {
  "kernelspec": {
   "display_name": "Python 3",
   "language": "python",
   "name": "python3"
  },
  "language_info": {
   "codemirror_mode": {
    "name": "ipython",
    "version": 3
   },
   "file_extension": ".py",
   "mimetype": "text/x-python",
   "name": "python",
   "nbconvert_exporter": "python",
   "pygments_lexer": "ipython3",
   "version": "3.9.4"
  }
 },
 "nbformat": 4,
 "nbformat_minor": 5
}
